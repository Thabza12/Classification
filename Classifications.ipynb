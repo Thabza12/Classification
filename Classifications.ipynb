{
 "cells": [
  {
   "cell_type": "code",
   "execution_count": 1,
   "id": "0ff55b66-61a6-40d9-a87c-7dfccf98a579",
   "metadata": {},
   "outputs": [
    {
     "name": "stdout",
     "output_type": "stream",
     "text": [
      "Requirement already satisfied: pandas in c:\\users\\sanelecele-purplewir\\anaconda3\\envs\\tensorflow\\lib\\site-packages (1.4.2)\n",
      "Requirement already satisfied: openpyxl in c:\\users\\sanelecele-purplewir\\anaconda3\\envs\\tensorflow\\lib\\site-packages (3.1.2)\n",
      "Requirement already satisfied: python-dateutil>=2.8.1 in c:\\users\\sanelecele-purplewir\\anaconda3\\envs\\tensorflow\\lib\\site-packages (from pandas) (2.8.2)\n",
      "Requirement already satisfied: numpy>=1.18.5 in c:\\users\\sanelecele-purplewir\\anaconda3\\envs\\tensorflow\\lib\\site-packages (from pandas) (1.22.3)\n",
      "Requirement already satisfied: pytz>=2020.1 in c:\\users\\sanelecele-purplewir\\anaconda3\\envs\\tensorflow\\lib\\site-packages (from pandas) (2022.1)\n",
      "Requirement already satisfied: et-xmlfile in c:\\users\\sanelecele-purplewir\\anaconda3\\envs\\tensorflow\\lib\\site-packages (from openpyxl) (1.1.0)\n",
      "Requirement already satisfied: six>=1.5 in c:\\users\\sanelecele-purplewir\\anaconda3\\envs\\tensorflow\\lib\\site-packages (from python-dateutil>=2.8.1->pandas) (1.16.0)\n",
      "\n",
      "[notice] A new release of pip available: 22.1.2 -> 24.1.2\n",
      "[notice] To update, run: python.exe -m pip install --upgrade pip\n"
     ]
    }
   ],
   "source": [
    "!pip install pandas openpyxl"
   ]
  },
  {
   "cell_type": "code",
   "execution_count": 49,
   "id": "d950a368-b59a-46ec-816f-a53d3cc92522",
   "metadata": {},
   "outputs": [
    {
     "ename": "ModuleNotFoundError",
     "evalue": "No module named 'Read_Excel_File'",
     "output_type": "error",
     "traceback": [
      "\u001b[1;31m---------------------------------------------------------------------------\u001b[0m",
      "\u001b[1;31mModuleNotFoundError\u001b[0m                       Traceback (most recent call last)",
      "Input \u001b[1;32mIn [49]\u001b[0m, in \u001b[0;36m<cell line: 1>\u001b[1;34m()\u001b[0m\n\u001b[1;32m----> 1\u001b[0m \u001b[38;5;28;01mimport\u001b[39;00m \u001b[38;5;21;01mRead_Excel_File\u001b[39;00m\n\u001b[0;32m      2\u001b[0m \u001b[38;5;28;01mimport\u001b[39;00m \u001b[38;5;21;01mRead_Text_File\u001b[39;00m\n\u001b[0;32m      3\u001b[0m \u001b[38;5;28;01mimport\u001b[39;00m \u001b[38;5;21;01mWrite_Results\u001b[39;00m\n",
      "\u001b[1;31mModuleNotFoundError\u001b[0m: No module named 'Read_Excel_File'"
     ]
    }
   ],
   "source": [
    "import Read_Excel_File\n",
    "import Read_Text_File\n",
    "import Write_Results"
   ]
  },
  {
   "cell_type": "code",
   "execution_count": null,
   "id": "98568ed3-2030-41ec-bd25-56031122687d",
   "metadata": {},
   "outputs": [],
   "source": [
    "excel_file_path = 'Classifcations/CriticalDataElements_Classification-ClassifiedByNHBRC.xlsx' \n",
    "text_file_path = 'Classifcations/FieldList.txt'  \n",
    "output_file_path = 'Classifications/output_results.txt'"
   ]
  },
  {
   "cell_type": "code",
   "execution_count": null,
   "id": "e3cccfd8-f167-4859-a33a-06def4a53998",
   "metadata": {},
   "outputs": [],
   "source": [
    "# Read the Excel file and text file\n",
    "df = ReadExcelFile.excel(excel_file_path)\n",
    "field_names = ReadTextFile.text(text_file_path)\n",
    "\n",
    "# List to store results\n",
    "results = []\n",
    "\n",
    "# Iterate through the DataFrame and check the conditions\n",
    "for index, row in df.iterrows():\n",
    "    if row['ElementFiledNameDescription'] in field_names and row['Classification'] in ['confidential', 'restricted']:\n",
    "        \n",
    "        result = {\n",
    "            'ElementName': row['ElementName'],\n",
    "            'ElementFieldName': row['ElementFiledNameDescription'],\n",
    "            'Classification': row['Classification']\n",
    "        }\n",
    "        results.append(result)\n",
    "        \n",
    "#Print Results\n",
    "print results\n",
    "\n",
    "# Write the results to the output text file\n",
    "# WriteResults.write(output_file_path, results)"
   ]
  },
  {
   "cell_type": "code",
   "execution_count": 48,
   "id": "3ef40efe-73b3-40cf-bd15-55d86911c7e0",
   "metadata": {},
   "outputs": [
    {
     "name": "stderr",
     "output_type": "stream",
     "text": [
      "C:\\Users\\SaneleCele-PurpleWir\\anaconda3\\envs\\tensorflow\\lib\\site-packages\\openpyxl\\worksheet\\_reader.py:329: UserWarning: Data Validation extension is not supported and will be removed\n",
      "  warn(msg)\n"
     ]
    }
   ],
   "source": [
    "import pandas as pd\n",
    "\n",
    "def read_excel_file(file_path):\n",
    "    # Load the Excel file\n",
    "    df = pd.read_excel(file_path)\n",
    "    return df\n",
    "\n",
    "def read_text_file(file_path):\n",
    "    # Read the text file into a list of field names\n",
    "    with open(file_path, 'r') as file:\n",
    "        field_names = [line.strip() for line in file.readlines()]\n",
    "    return field_names\n",
    "\n",
    "def write_results_to_text_file(file_path, results):\n",
    "    # Write the results to a new text file\n",
    "    with open(file_path, 'w') as file:\n",
    "        for result in results:\n",
    "            file.write(f\"{result['ElementName']}\\t{result['ElementFieldName']}\\t{result['Classification']}\\n\")\n",
    "\n",
    "def main():\n",
    "    excel_file_path = 'Classifcations/CriticalDataElements_Classification-ClassifiedByNHBRC.xlsx' \n",
    "    text_file_path = 'Classifcations/FieldList.txt'  \n",
    "    output_file_path = 'Classifcations/output_results.txt'\n",
    "\n",
    "    # Read the Excel file and text file\n",
    "    df = read_excel_file(excel_file_path)\n",
    "    field_names = read_text_file(text_file_path)\n",
    "\n",
    "    # Print the field names for debugging\n",
    "    # print(\"Field names from text file:\", field_names)\n",
    "\n",
    "    # List to store results\n",
    "    results = []\n",
    "\n",
    "    # Iterate through the DataFrame and check the conditions\n",
    "    for index, row in df.iterrows():\n",
    "        # Print the current row's ElementFiledNameDescription for debugging\n",
    "        # print(f\"Checking row {index}: {row['ElementFieldName']}\")\n",
    "\n",
    "        if row['ElementFieldName'] in field_names:\n",
    "            # print(f\"Match found for {row['ElementFieldName']}\")\n",
    "            classification = row['Classification'].strip().lower()\n",
    "            if classification in ['confidential', 'restricted']:\n",
    "                result = {\n",
    "                    'ElementName': row['ElementName'],\n",
    "                    'ElementFieldName': row['ElementFieldName'],\n",
    "                    'Classification': row['Classification']\n",
    "                }\n",
    "                # print(result)\n",
    "                results.append(result)\n",
    "\n",
    "    # Write the results to the output text file\n",
    "    write_results_to_text_file(output_file_path, results)\n",
    "    \n",
    "    # Print results\n",
    "    # print(results)\n",
    "\n",
    "if __name__ == \"__main__\":\n",
    "    main()\n"
   ]
  },
  {
   "cell_type": "code",
   "execution_count": null,
   "id": "c9ecb30c-7760-4d58-b286-97ae09cb642c",
   "metadata": {},
   "outputs": [],
   "source": []
  },
  {
   "cell_type": "code",
   "execution_count": null,
   "id": "7de6883f-a1d5-4e4d-b13e-0bc07785100f",
   "metadata": {},
   "outputs": [],
   "source": []
  },
  {
   "cell_type": "code",
   "execution_count": null,
   "id": "54b93681-5ca6-47e6-baec-0847998ca237",
   "metadata": {},
   "outputs": [],
   "source": []
  },
  {
   "cell_type": "code",
   "execution_count": null,
   "id": "8c646555-a221-4281-b79b-49ae8e9e66a0",
   "metadata": {},
   "outputs": [],
   "source": []
  },
  {
   "cell_type": "code",
   "execution_count": null,
   "id": "2aa1d7fb-e1c8-4abf-ab25-f8926dc5124d",
   "metadata": {},
   "outputs": [],
   "source": []
  },
  {
   "cell_type": "code",
   "execution_count": null,
   "id": "d2a941f3-6b14-4be6-98e1-84a6ec74055c",
   "metadata": {},
   "outputs": [],
   "source": []
  },
  {
   "cell_type": "code",
   "execution_count": null,
   "id": "91f690e5-e2dd-4d18-844f-2062eb8186eb",
   "metadata": {},
   "outputs": [],
   "source": []
  },
  {
   "cell_type": "code",
   "execution_count": null,
   "id": "9eab4e09-4c04-46ec-91ef-7b532d8f00cb",
   "metadata": {},
   "outputs": [],
   "source": []
  }
 ],
 "metadata": {
  "kernelspec": {
   "display_name": "Python 3 (ipykernel)",
   "language": "python",
   "name": "python3"
  },
  "language_info": {
   "codemirror_mode": {
    "name": "ipython",
    "version": 3
   },
   "file_extension": ".py",
   "mimetype": "text/x-python",
   "name": "python",
   "nbconvert_exporter": "python",
   "pygments_lexer": "ipython3",
   "version": "3.9.12"
  }
 },
 "nbformat": 4,
 "nbformat_minor": 5
}
